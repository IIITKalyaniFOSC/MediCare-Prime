{
  "nbformat": 4,
  "nbformat_minor": 5,
  "metadata": {
    "kernelspec": {
      "display_name": "Python 3",
      "language": "python",
      "name": "python3"
    },
    "language_info": {
      "codemirror_mode": {
        "name": "ipython",
        "version": 3
      },
      "file_extension": ".py",
      "mimetype": "text/x-python",
      "name": "python",
      "nbconvert_exporter": "python",
      "pygments_lexer": "ipython3",
      "version": "3.8.8"
    },
    "colab": {
      "name": "Thyroid_Disease_Prediction.ipynb",
      "provenance": []
    }
  },
  "cells": [
    {
      "cell_type": "markdown",
      "metadata": {
        "id": "J0ds-_wk226N"
      },
      "source": [
        "# **Thyroid Disease Prediction**"
      ],
      "id": "J0ds-_wk226N"
    },
    {
      "cell_type": "markdown",
      "metadata": {
        "id": "dAGaTESR2-yq"
      },
      "source": [
        "## Importing Libraries"
      ],
      "id": "dAGaTESR2-yq"
    },
    {
      "cell_type": "code",
      "metadata": {
        "id": "81bb2c38"
      },
      "source": [
        "# importing required libraries\n",
        "\n",
        "import pandas as pd\n",
        "import matplotlib.pyplot as plt\n",
        "import numpy as np\n",
        "from sklearn.metrics import accuracy_score\n",
        "from sklearn.model_selection import train_test_split\n",
        "import seaborn as sns\n",
        "from sklearn.model_selection import cross_val_score\n",
        "from sklearn.model_selection import StratifiedKFold\n",
        "from sklearn.preprocessing import StandardScaler\n",
        "from joblib import dump, load\n",
        "%matplotlib inline\n",
        "import warnings\n",
        "warnings.filterwarnings(\"ignore\")"
      ],
      "id": "81bb2c38",
      "execution_count": 1,
      "outputs": []
    },
    {
      "cell_type": "markdown",
      "metadata": {
        "id": "4zVOsKU-3WE2"
      },
      "source": [
        "## Reading Dataset"
      ],
      "id": "4zVOsKU-3WE2"
    },
    {
      "cell_type": "code",
      "metadata": {
        "id": "99a1c8ac"
      },
      "source": [
        "df = pd.read_csv(\"thyroid.csv\")"
      ],
      "id": "99a1c8ac",
      "execution_count": 2,
      "outputs": []
    },
    {
      "cell_type": "code",
      "metadata": {
        "id": "639ef852",
        "colab": {
          "base_uri": "https://localhost:8080/",
          "height": 239
        },
        "outputId": "b23873df-37e9-44d9-a113-674f0d46f8c8"
      },
      "source": [
        "df.head()"
      ],
      "id": "639ef852",
      "execution_count": 3,
      "outputs": [
        {
          "output_type": "execute_result",
          "data": {
            "text/html": [
              "<div>\n",
              "<style scoped>\n",
              "    .dataframe tbody tr th:only-of-type {\n",
              "        vertical-align: middle;\n",
              "    }\n",
              "\n",
              "    .dataframe tbody tr th {\n",
              "        vertical-align: top;\n",
              "    }\n",
              "\n",
              "    .dataframe thead th {\n",
              "        text-align: right;\n",
              "    }\n",
              "</style>\n",
              "<table border=\"1\" class=\"dataframe\">\n",
              "  <thead>\n",
              "    <tr style=\"text-align: right;\">\n",
              "      <th></th>\n",
              "      <th>Age</th>\n",
              "      <th>Sex</th>\n",
              "      <th>On_thyroxine</th>\n",
              "      <th>Query_on_thyroxine</th>\n",
              "      <th>On_antithyroid_medication</th>\n",
              "      <th>Sick</th>\n",
              "      <th>Pregnant</th>\n",
              "      <th>Thyroid surgery</th>\n",
              "      <th>I131_treatment</th>\n",
              "      <th>Query_hypothyroid</th>\n",
              "      <th>Query_hyperthyroid</th>\n",
              "      <th>Lithium</th>\n",
              "      <th>Goiter</th>\n",
              "      <th>Tumor</th>\n",
              "      <th>Hypopituitary</th>\n",
              "      <th>Psych</th>\n",
              "      <th>TSH</th>\n",
              "      <th>T3</th>\n",
              "      <th>TT4</th>\n",
              "      <th>T4U</th>\n",
              "      <th>FTI</th>\n",
              "      <th>Class</th>\n",
              "    </tr>\n",
              "  </thead>\n",
              "  <tbody>\n",
              "    <tr>\n",
              "      <th>0</th>\n",
              "      <td>0.24</td>\n",
              "      <td>0</td>\n",
              "      <td>0</td>\n",
              "      <td>0</td>\n",
              "      <td>0</td>\n",
              "      <td>0</td>\n",
              "      <td>0</td>\n",
              "      <td>0</td>\n",
              "      <td>0</td>\n",
              "      <td>0</td>\n",
              "      <td>0</td>\n",
              "      <td>0</td>\n",
              "      <td>0</td>\n",
              "      <td>0</td>\n",
              "      <td>0</td>\n",
              "      <td>0</td>\n",
              "      <td>0.00025</td>\n",
              "      <td>0.030</td>\n",
              "      <td>0.143</td>\n",
              "      <td>0.133</td>\n",
              "      <td>0.108</td>\n",
              "      <td>3</td>\n",
              "    </tr>\n",
              "    <tr>\n",
              "      <th>1</th>\n",
              "      <td>0.47</td>\n",
              "      <td>0</td>\n",
              "      <td>0</td>\n",
              "      <td>0</td>\n",
              "      <td>0</td>\n",
              "      <td>0</td>\n",
              "      <td>0</td>\n",
              "      <td>0</td>\n",
              "      <td>0</td>\n",
              "      <td>0</td>\n",
              "      <td>0</td>\n",
              "      <td>0</td>\n",
              "      <td>0</td>\n",
              "      <td>0</td>\n",
              "      <td>0</td>\n",
              "      <td>0</td>\n",
              "      <td>0.00190</td>\n",
              "      <td>0.024</td>\n",
              "      <td>0.102</td>\n",
              "      <td>0.131</td>\n",
              "      <td>0.078</td>\n",
              "      <td>3</td>\n",
              "    </tr>\n",
              "    <tr>\n",
              "      <th>2</th>\n",
              "      <td>0.64</td>\n",
              "      <td>1</td>\n",
              "      <td>0</td>\n",
              "      <td>0</td>\n",
              "      <td>0</td>\n",
              "      <td>0</td>\n",
              "      <td>0</td>\n",
              "      <td>0</td>\n",
              "      <td>0</td>\n",
              "      <td>0</td>\n",
              "      <td>0</td>\n",
              "      <td>0</td>\n",
              "      <td>0</td>\n",
              "      <td>0</td>\n",
              "      <td>0</td>\n",
              "      <td>0</td>\n",
              "      <td>0.00090</td>\n",
              "      <td>0.017</td>\n",
              "      <td>0.077</td>\n",
              "      <td>0.090</td>\n",
              "      <td>0.085</td>\n",
              "      <td>3</td>\n",
              "    </tr>\n",
              "    <tr>\n",
              "      <th>3</th>\n",
              "      <td>0.23</td>\n",
              "      <td>0</td>\n",
              "      <td>0</td>\n",
              "      <td>0</td>\n",
              "      <td>0</td>\n",
              "      <td>0</td>\n",
              "      <td>0</td>\n",
              "      <td>0</td>\n",
              "      <td>0</td>\n",
              "      <td>0</td>\n",
              "      <td>0</td>\n",
              "      <td>0</td>\n",
              "      <td>0</td>\n",
              "      <td>0</td>\n",
              "      <td>0</td>\n",
              "      <td>0</td>\n",
              "      <td>0.00025</td>\n",
              "      <td>0.026</td>\n",
              "      <td>0.139</td>\n",
              "      <td>0.090</td>\n",
              "      <td>0.153</td>\n",
              "      <td>3</td>\n",
              "    </tr>\n",
              "    <tr>\n",
              "      <th>4</th>\n",
              "      <td>0.69</td>\n",
              "      <td>1</td>\n",
              "      <td>0</td>\n",
              "      <td>0</td>\n",
              "      <td>0</td>\n",
              "      <td>0</td>\n",
              "      <td>0</td>\n",
              "      <td>0</td>\n",
              "      <td>0</td>\n",
              "      <td>0</td>\n",
              "      <td>0</td>\n",
              "      <td>0</td>\n",
              "      <td>0</td>\n",
              "      <td>0</td>\n",
              "      <td>0</td>\n",
              "      <td>0</td>\n",
              "      <td>0.00025</td>\n",
              "      <td>0.016</td>\n",
              "      <td>0.086</td>\n",
              "      <td>0.070</td>\n",
              "      <td>0.123</td>\n",
              "      <td>3</td>\n",
              "    </tr>\n",
              "  </tbody>\n",
              "</table>\n",
              "</div>"
            ],
            "text/plain": [
              "    Age  Sex  On_thyroxine  Query_on_thyroxine  ...    TT4    T4U    FTI  Class\n",
              "0  0.24    0             0                   0  ...  0.143  0.133  0.108      3\n",
              "1  0.47    0             0                   0  ...  0.102  0.131  0.078      3\n",
              "2  0.64    1             0                   0  ...  0.077  0.090  0.085      3\n",
              "3  0.23    0             0                   0  ...  0.139  0.090  0.153      3\n",
              "4  0.69    1             0                   0  ...  0.086  0.070  0.123      3\n",
              "\n",
              "[5 rows x 22 columns]"
            ]
          },
          "metadata": {
            "tags": []
          },
          "execution_count": 3
        }
      ]
    },
    {
      "cell_type": "code",
      "metadata": {
        "id": "b6edaaac",
        "colab": {
          "base_uri": "https://localhost:8080/",
          "height": 331
        },
        "outputId": "d3f64bec-59ae-432d-a144-16019d4c5972"
      },
      "source": [
        "df.describe()"
      ],
      "id": "b6edaaac",
      "execution_count": 4,
      "outputs": [
        {
          "output_type": "execute_result",
          "data": {
            "text/html": [
              "<div>\n",
              "<style scoped>\n",
              "    .dataframe tbody tr th:only-of-type {\n",
              "        vertical-align: middle;\n",
              "    }\n",
              "\n",
              "    .dataframe tbody tr th {\n",
              "        vertical-align: top;\n",
              "    }\n",
              "\n",
              "    .dataframe thead th {\n",
              "        text-align: right;\n",
              "    }\n",
              "</style>\n",
              "<table border=\"1\" class=\"dataframe\">\n",
              "  <thead>\n",
              "    <tr style=\"text-align: right;\">\n",
              "      <th></th>\n",
              "      <th>Age</th>\n",
              "      <th>Sex</th>\n",
              "      <th>On_thyroxine</th>\n",
              "      <th>Query_on_thyroxine</th>\n",
              "      <th>On_antithyroid_medication</th>\n",
              "      <th>Sick</th>\n",
              "      <th>Pregnant</th>\n",
              "      <th>Thyroid surgery</th>\n",
              "      <th>I131_treatment</th>\n",
              "      <th>Query_hypothyroid</th>\n",
              "      <th>Query_hyperthyroid</th>\n",
              "      <th>Lithium</th>\n",
              "      <th>Goiter</th>\n",
              "      <th>Tumor</th>\n",
              "      <th>Hypopituitary</th>\n",
              "      <th>Psych</th>\n",
              "      <th>TSH</th>\n",
              "      <th>T3</th>\n",
              "      <th>TT4</th>\n",
              "      <th>T4U</th>\n",
              "      <th>FTI</th>\n",
              "      <th>Class</th>\n",
              "    </tr>\n",
              "  </thead>\n",
              "  <tbody>\n",
              "    <tr>\n",
              "      <th>count</th>\n",
              "      <td>7198.000000</td>\n",
              "      <td>7198.000000</td>\n",
              "      <td>7198.000000</td>\n",
              "      <td>7198.000000</td>\n",
              "      <td>7198.000000</td>\n",
              "      <td>7198.000000</td>\n",
              "      <td>7198.000000</td>\n",
              "      <td>7198.000000</td>\n",
              "      <td>7198.000000</td>\n",
              "      <td>7198.000000</td>\n",
              "      <td>7198.000000</td>\n",
              "      <td>7198.000000</td>\n",
              "      <td>7198.000000</td>\n",
              "      <td>7198.000000</td>\n",
              "      <td>7198.000000</td>\n",
              "      <td>7198.000000</td>\n",
              "      <td>7198.000000</td>\n",
              "      <td>7198.000000</td>\n",
              "      <td>7198.000000</td>\n",
              "      <td>7198.000000</td>\n",
              "      <td>7198.000000</td>\n",
              "      <td>7198.000000</td>\n",
              "    </tr>\n",
              "    <tr>\n",
              "      <th>mean</th>\n",
              "      <td>0.520521</td>\n",
              "      <td>0.304390</td>\n",
              "      <td>0.130453</td>\n",
              "      <td>0.015421</td>\n",
              "      <td>0.012781</td>\n",
              "      <td>0.038344</td>\n",
              "      <td>0.010836</td>\n",
              "      <td>0.014032</td>\n",
              "      <td>0.016671</td>\n",
              "      <td>0.065574</td>\n",
              "      <td>0.068769</td>\n",
              "      <td>0.012642</td>\n",
              "      <td>0.008197</td>\n",
              "      <td>0.025563</td>\n",
              "      <td>0.000139</td>\n",
              "      <td>0.048902</td>\n",
              "      <td>0.004862</td>\n",
              "      <td>0.019976</td>\n",
              "      <td>0.109428</td>\n",
              "      <td>0.097836</td>\n",
              "      <td>0.113214</td>\n",
              "      <td>2.902890</td>\n",
              "    </tr>\n",
              "    <tr>\n",
              "      <th>std</th>\n",
              "      <td>0.189260</td>\n",
              "      <td>0.460181</td>\n",
              "      <td>0.336824</td>\n",
              "      <td>0.123228</td>\n",
              "      <td>0.112338</td>\n",
              "      <td>0.192039</td>\n",
              "      <td>0.103539</td>\n",
              "      <td>0.117630</td>\n",
              "      <td>0.128045</td>\n",
              "      <td>0.247553</td>\n",
              "      <td>0.253079</td>\n",
              "      <td>0.111733</td>\n",
              "      <td>0.090170</td>\n",
              "      <td>0.157837</td>\n",
              "      <td>0.011787</td>\n",
              "      <td>0.215679</td>\n",
              "      <td>0.022982</td>\n",
              "      <td>0.007539</td>\n",
              "      <td>0.035973</td>\n",
              "      <td>0.019082</td>\n",
              "      <td>0.036099</td>\n",
              "      <td>0.365817</td>\n",
              "    </tr>\n",
              "    <tr>\n",
              "      <th>min</th>\n",
              "      <td>0.010000</td>\n",
              "      <td>0.000000</td>\n",
              "      <td>0.000000</td>\n",
              "      <td>0.000000</td>\n",
              "      <td>0.000000</td>\n",
              "      <td>0.000000</td>\n",
              "      <td>0.000000</td>\n",
              "      <td>0.000000</td>\n",
              "      <td>0.000000</td>\n",
              "      <td>0.000000</td>\n",
              "      <td>0.000000</td>\n",
              "      <td>0.000000</td>\n",
              "      <td>0.000000</td>\n",
              "      <td>0.000000</td>\n",
              "      <td>0.000000</td>\n",
              "      <td>0.000000</td>\n",
              "      <td>0.000000</td>\n",
              "      <td>0.000500</td>\n",
              "      <td>0.002000</td>\n",
              "      <td>0.017000</td>\n",
              "      <td>0.002000</td>\n",
              "      <td>1.000000</td>\n",
              "    </tr>\n",
              "    <tr>\n",
              "      <th>25%</th>\n",
              "      <td>0.370000</td>\n",
              "      <td>0.000000</td>\n",
              "      <td>0.000000</td>\n",
              "      <td>0.000000</td>\n",
              "      <td>0.000000</td>\n",
              "      <td>0.000000</td>\n",
              "      <td>0.000000</td>\n",
              "      <td>0.000000</td>\n",
              "      <td>0.000000</td>\n",
              "      <td>0.000000</td>\n",
              "      <td>0.000000</td>\n",
              "      <td>0.000000</td>\n",
              "      <td>0.000000</td>\n",
              "      <td>0.000000</td>\n",
              "      <td>0.000000</td>\n",
              "      <td>0.000000</td>\n",
              "      <td>0.000710</td>\n",
              "      <td>0.017000</td>\n",
              "      <td>0.089000</td>\n",
              "      <td>0.087000</td>\n",
              "      <td>0.095000</td>\n",
              "      <td>3.000000</td>\n",
              "    </tr>\n",
              "    <tr>\n",
              "      <th>50%</th>\n",
              "      <td>0.550000</td>\n",
              "      <td>0.000000</td>\n",
              "      <td>0.000000</td>\n",
              "      <td>0.000000</td>\n",
              "      <td>0.000000</td>\n",
              "      <td>0.000000</td>\n",
              "      <td>0.000000</td>\n",
              "      <td>0.000000</td>\n",
              "      <td>0.000000</td>\n",
              "      <td>0.000000</td>\n",
              "      <td>0.000000</td>\n",
              "      <td>0.000000</td>\n",
              "      <td>0.000000</td>\n",
              "      <td>0.000000</td>\n",
              "      <td>0.000000</td>\n",
              "      <td>0.000000</td>\n",
              "      <td>0.001700</td>\n",
              "      <td>0.020100</td>\n",
              "      <td>0.107000</td>\n",
              "      <td>0.097000</td>\n",
              "      <td>0.111000</td>\n",
              "      <td>3.000000</td>\n",
              "    </tr>\n",
              "    <tr>\n",
              "      <th>75%</th>\n",
              "      <td>0.670000</td>\n",
              "      <td>1.000000</td>\n",
              "      <td>0.000000</td>\n",
              "      <td>0.000000</td>\n",
              "      <td>0.000000</td>\n",
              "      <td>0.000000</td>\n",
              "      <td>0.000000</td>\n",
              "      <td>0.000000</td>\n",
              "      <td>0.000000</td>\n",
              "      <td>0.000000</td>\n",
              "      <td>0.000000</td>\n",
              "      <td>0.000000</td>\n",
              "      <td>0.000000</td>\n",
              "      <td>0.000000</td>\n",
              "      <td>0.000000</td>\n",
              "      <td>0.000000</td>\n",
              "      <td>0.002700</td>\n",
              "      <td>0.022000</td>\n",
              "      <td>0.125000</td>\n",
              "      <td>0.104000</td>\n",
              "      <td>0.127000</td>\n",
              "      <td>3.000000</td>\n",
              "    </tr>\n",
              "    <tr>\n",
              "      <th>max</th>\n",
              "      <td>0.970000</td>\n",
              "      <td>1.000000</td>\n",
              "      <td>1.000000</td>\n",
              "      <td>1.000000</td>\n",
              "      <td>1.000000</td>\n",
              "      <td>1.000000</td>\n",
              "      <td>1.000000</td>\n",
              "      <td>1.000000</td>\n",
              "      <td>1.000000</td>\n",
              "      <td>1.000000</td>\n",
              "      <td>1.000000</td>\n",
              "      <td>1.000000</td>\n",
              "      <td>1.000000</td>\n",
              "      <td>1.000000</td>\n",
              "      <td>1.000000</td>\n",
              "      <td>1.000000</td>\n",
              "      <td>0.530000</td>\n",
              "      <td>0.180000</td>\n",
              "      <td>0.600000</td>\n",
              "      <td>0.233000</td>\n",
              "      <td>0.642000</td>\n",
              "      <td>3.000000</td>\n",
              "    </tr>\n",
              "  </tbody>\n",
              "</table>\n",
              "</div>"
            ],
            "text/plain": [
              "               Age          Sex  ...          FTI        Class\n",
              "count  7198.000000  7198.000000  ...  7198.000000  7198.000000\n",
              "mean      0.520521     0.304390  ...     0.113214     2.902890\n",
              "std       0.189260     0.460181  ...     0.036099     0.365817\n",
              "min       0.010000     0.000000  ...     0.002000     1.000000\n",
              "25%       0.370000     0.000000  ...     0.095000     3.000000\n",
              "50%       0.550000     0.000000  ...     0.111000     3.000000\n",
              "75%       0.670000     1.000000  ...     0.127000     3.000000\n",
              "max       0.970000     1.000000  ...     0.642000     3.000000\n",
              "\n",
              "[8 rows x 22 columns]"
            ]
          },
          "metadata": {
            "tags": []
          },
          "execution_count": 4
        }
      ]
    },
    {
      "cell_type": "code",
      "metadata": {
        "id": "e456829e",
        "colab": {
          "base_uri": "https://localhost:8080/"
        },
        "outputId": "cdb52161-d52c-4518-cb1b-a052cc452a02"
      },
      "source": [
        "df.info()"
      ],
      "id": "e456829e",
      "execution_count": 5,
      "outputs": [
        {
          "output_type": "stream",
          "text": [
            "<class 'pandas.core.frame.DataFrame'>\n",
            "RangeIndex: 7198 entries, 0 to 7197\n",
            "Data columns (total 22 columns):\n",
            " #   Column                     Non-Null Count  Dtype  \n",
            "---  ------                     --------------  -----  \n",
            " 0   Age                        7198 non-null   float64\n",
            " 1   Sex                        7198 non-null   int64  \n",
            " 2   On_thyroxine               7198 non-null   int64  \n",
            " 3   Query_on_thyroxine         7198 non-null   int64  \n",
            " 4   On_antithyroid_medication  7198 non-null   int64  \n",
            " 5   Sick                       7198 non-null   int64  \n",
            " 6   Pregnant                   7198 non-null   int64  \n",
            " 7   Thyroid surgery            7198 non-null   int64  \n",
            " 8   I131_treatment             7198 non-null   int64  \n",
            " 9   Query_hypothyroid          7198 non-null   int64  \n",
            " 10  Query_hyperthyroid         7198 non-null   int64  \n",
            " 11  Lithium                    7198 non-null   int64  \n",
            " 12  Goiter                     7198 non-null   int64  \n",
            " 13  Tumor                      7198 non-null   int64  \n",
            " 14  Hypopituitary              7198 non-null   int64  \n",
            " 15  Psych                      7198 non-null   int64  \n",
            " 16  TSH                        7198 non-null   float64\n",
            " 17  T3                         7198 non-null   float64\n",
            " 18  TT4                        7198 non-null   float64\n",
            " 19  T4U                        7198 non-null   float64\n",
            " 20  FTI                        7198 non-null   float64\n",
            " 21  Class                      7198 non-null   int64  \n",
            "dtypes: float64(6), int64(16)\n",
            "memory usage: 1.2 MB\n"
          ],
          "name": "stdout"
        }
      ]
    },
    {
      "cell_type": "code",
      "metadata": {
        "id": "31c3f4c9",
        "colab": {
          "base_uri": "https://localhost:8080/"
        },
        "outputId": "e3b76d75-a5d9-4574-ed97-d4a90f7e38fc"
      },
      "source": [
        "df.columns"
      ],
      "id": "31c3f4c9",
      "execution_count": 6,
      "outputs": [
        {
          "output_type": "execute_result",
          "data": {
            "text/plain": [
              "Index(['Age', 'Sex', 'On_thyroxine', 'Query_on_thyroxine',\n",
              "       'On_antithyroid_medication', 'Sick', 'Pregnant', 'Thyroid surgery',\n",
              "       'I131_treatment', 'Query_hypothyroid', 'Query_hyperthyroid', 'Lithium',\n",
              "       'Goiter', 'Tumor', 'Hypopituitary', 'Psych', 'TSH', 'T3', 'TT4', 'T4U',\n",
              "       'FTI', 'Class'],\n",
              "      dtype='object')"
            ]
          },
          "metadata": {
            "tags": []
          },
          "execution_count": 6
        }
      ]
    },
    {
      "cell_type": "code",
      "metadata": {
        "colab": {
          "base_uri": "https://localhost:8080/"
        },
        "id": "VeyliVWNFiDg",
        "outputId": "15262a88-2e6f-46ab-df6d-fddb50482096"
      },
      "source": [
        "df['Class'].value_counts()"
      ],
      "id": "VeyliVWNFiDg",
      "execution_count": 7,
      "outputs": [
        {
          "output_type": "execute_result",
          "data": {
            "text/plain": [
              "3    6665\n",
              "2     367\n",
              "1     166\n",
              "Name: Class, dtype: int64"
            ]
          },
          "metadata": {
            "tags": []
          },
          "execution_count": 7
        }
      ]
    },
    {
      "cell_type": "markdown",
      "metadata": {
        "id": "waHI7gOk3irK"
      },
      "source": [
        "## Data Inspecting and Cleaning"
      ],
      "id": "waHI7gOk3irK"
    },
    {
      "cell_type": "code",
      "metadata": {
        "id": "bcd7f9bc",
        "colab": {
          "base_uri": "https://localhost:8080/"
        },
        "outputId": "17d7caf6-2f21-42ff-bac5-47b44760af7d"
      },
      "source": [
        "df.isnull().sum()"
      ],
      "id": "bcd7f9bc",
      "execution_count": 8,
      "outputs": [
        {
          "output_type": "execute_result",
          "data": {
            "text/plain": [
              "Age                          0\n",
              "Sex                          0\n",
              "On_thyroxine                 0\n",
              "Query_on_thyroxine           0\n",
              "On_antithyroid_medication    0\n",
              "Sick                         0\n",
              "Pregnant                     0\n",
              "Thyroid surgery              0\n",
              "I131_treatment               0\n",
              "Query_hypothyroid            0\n",
              "Query_hyperthyroid           0\n",
              "Lithium                      0\n",
              "Goiter                       0\n",
              "Tumor                        0\n",
              "Hypopituitary                0\n",
              "Psych                        0\n",
              "TSH                          0\n",
              "T3                           0\n",
              "TT4                          0\n",
              "T4U                          0\n",
              "FTI                          0\n",
              "Class                        0\n",
              "dtype: int64"
            ]
          },
          "metadata": {
            "tags": []
          },
          "execution_count": 8
        }
      ]
    },
    {
      "cell_type": "markdown",
      "metadata": {
        "id": "d581f6d0"
      },
      "source": [
        "## Exploratory Data Analysis"
      ],
      "id": "d581f6d0"
    },
    {
      "cell_type": "code",
      "metadata": {
        "colab": {
          "base_uri": "https://localhost:8080/",
          "height": 762
        },
        "id": "zYlokBjZ4L5_",
        "outputId": "3de97355-0988-435f-e008-c11c0738a00c"
      },
      "source": [
        "#Checking relationship between variables\n",
        "cor=df.corr()\n",
        "cor"
      ],
      "id": "zYlokBjZ4L5_",
      "execution_count": 9,
      "outputs": [
        {
          "output_type": "execute_result",
          "data": {
            "text/html": [
              "<div>\n",
              "<style scoped>\n",
              "    .dataframe tbody tr th:only-of-type {\n",
              "        vertical-align: middle;\n",
              "    }\n",
              "\n",
              "    .dataframe tbody tr th {\n",
              "        vertical-align: top;\n",
              "    }\n",
              "\n",
              "    .dataframe thead th {\n",
              "        text-align: right;\n",
              "    }\n",
              "</style>\n",
              "<table border=\"1\" class=\"dataframe\">\n",
              "  <thead>\n",
              "    <tr style=\"text-align: right;\">\n",
              "      <th></th>\n",
              "      <th>Age</th>\n",
              "      <th>Sex</th>\n",
              "      <th>On_thyroxine</th>\n",
              "      <th>Query_on_thyroxine</th>\n",
              "      <th>On_antithyroid_medication</th>\n",
              "      <th>Sick</th>\n",
              "      <th>Pregnant</th>\n",
              "      <th>Thyroid surgery</th>\n",
              "      <th>I131_treatment</th>\n",
              "      <th>Query_hypothyroid</th>\n",
              "      <th>Query_hyperthyroid</th>\n",
              "      <th>Lithium</th>\n",
              "      <th>Goiter</th>\n",
              "      <th>Tumor</th>\n",
              "      <th>Hypopituitary</th>\n",
              "      <th>Psych</th>\n",
              "      <th>TSH</th>\n",
              "      <th>T3</th>\n",
              "      <th>TT4</th>\n",
              "      <th>T4U</th>\n",
              "      <th>FTI</th>\n",
              "      <th>Class</th>\n",
              "    </tr>\n",
              "  </thead>\n",
              "  <tbody>\n",
              "    <tr>\n",
              "      <th>Age</th>\n",
              "      <td>1.000000</td>\n",
              "      <td>-0.004575</td>\n",
              "      <td>0.005952</td>\n",
              "      <td>-0.005230</td>\n",
              "      <td>-0.050504</td>\n",
              "      <td>0.078815</td>\n",
              "      <td>-0.106789</td>\n",
              "      <td>-0.019801</td>\n",
              "      <td>0.060131</td>\n",
              "      <td>0.045090</td>\n",
              "      <td>-0.030477</td>\n",
              "      <td>-0.036450</td>\n",
              "      <td>-0.055778</td>\n",
              "      <td>-0.050448</td>\n",
              "      <td>-0.019341</td>\n",
              "      <td>-0.095050</td>\n",
              "      <td>-0.022134</td>\n",
              "      <td>-0.208658</td>\n",
              "      <td>-0.060380</td>\n",
              "      <td>-0.160996</td>\n",
              "      <td>0.029605</td>\n",
              "      <td>-0.035032</td>\n",
              "    </tr>\n",
              "    <tr>\n",
              "      <th>Sex</th>\n",
              "      <td>-0.004575</td>\n",
              "      <td>1.000000</td>\n",
              "      <td>-0.102034</td>\n",
              "      <td>0.051976</td>\n",
              "      <td>-0.029576</td>\n",
              "      <td>0.007843</td>\n",
              "      <td>-0.069237</td>\n",
              "      <td>-0.037844</td>\n",
              "      <td>-0.015391</td>\n",
              "      <td>-0.067903</td>\n",
              "      <td>-0.068808</td>\n",
              "      <td>0.033240</td>\n",
              "      <td>-0.003211</td>\n",
              "      <td>-0.072708</td>\n",
              "      <td>0.017819</td>\n",
              "      <td>0.108993</td>\n",
              "      <td>-0.043567</td>\n",
              "      <td>-0.045058</td>\n",
              "      <td>-0.151049</td>\n",
              "      <td>-0.220899</td>\n",
              "      <td>-0.026910</td>\n",
              "      <td>0.052634</td>\n",
              "    </tr>\n",
              "    <tr>\n",
              "      <th>On_thyroxine</th>\n",
              "      <td>0.005952</td>\n",
              "      <td>-0.102034</td>\n",
              "      <td>1.000000</td>\n",
              "      <td>-0.004955</td>\n",
              "      <td>-0.003678</td>\n",
              "      <td>-0.049417</td>\n",
              "      <td>-0.000699</td>\n",
              "      <td>0.020425</td>\n",
              "      <td>0.071990</td>\n",
              "      <td>0.112359</td>\n",
              "      <td>-0.017236</td>\n",
              "      <td>-0.006909</td>\n",
              "      <td>0.001387</td>\n",
              "      <td>-0.018304</td>\n",
              "      <td>-0.004566</td>\n",
              "      <td>-0.064876</td>\n",
              "      <td>0.013457</td>\n",
              "      <td>-0.009219</td>\n",
              "      <td>0.200367</td>\n",
              "      <td>0.036998</td>\n",
              "      <td>0.176827</td>\n",
              "      <td>0.064487</td>\n",
              "    </tr>\n",
              "    <tr>\n",
              "      <th>Query_on_thyroxine</th>\n",
              "      <td>-0.005230</td>\n",
              "      <td>0.051976</td>\n",
              "      <td>-0.004955</td>\n",
              "      <td>1.000000</td>\n",
              "      <td>-0.014240</td>\n",
              "      <td>-0.001504</td>\n",
              "      <td>0.030461</td>\n",
              "      <td>-0.005344</td>\n",
              "      <td>-0.016295</td>\n",
              "      <td>-0.019489</td>\n",
              "      <td>-0.025099</td>\n",
              "      <td>-0.014161</td>\n",
              "      <td>0.001127</td>\n",
              "      <td>-0.005983</td>\n",
              "      <td>0.094188</td>\n",
              "      <td>-0.028378</td>\n",
              "      <td>-0.014755</td>\n",
              "      <td>-0.009717</td>\n",
              "      <td>-0.010957</td>\n",
              "      <td>-0.024625</td>\n",
              "      <td>0.006946</td>\n",
              "      <td>0.017813</td>\n",
              "    </tr>\n",
              "    <tr>\n",
              "      <th>On_antithyroid_medication</th>\n",
              "      <td>-0.050504</td>\n",
              "      <td>-0.029576</td>\n",
              "      <td>-0.003678</td>\n",
              "      <td>-0.014240</td>\n",
              "      <td>1.000000</td>\n",
              "      <td>-0.022721</td>\n",
              "      <td>0.035874</td>\n",
              "      <td>-0.013574</td>\n",
              "      <td>0.014163</td>\n",
              "      <td>-0.025146</td>\n",
              "      <td>0.101036</td>\n",
              "      <td>-0.012875</td>\n",
              "      <td>-0.010344</td>\n",
              "      <td>-0.018429</td>\n",
              "      <td>-0.001341</td>\n",
              "      <td>-0.025801</td>\n",
              "      <td>-0.010894</td>\n",
              "      <td>0.097592</td>\n",
              "      <td>0.017793</td>\n",
              "      <td>0.049205</td>\n",
              "      <td>-0.010661</td>\n",
              "      <td>0.013302</td>\n",
              "    </tr>\n",
              "    <tr>\n",
              "      <th>Sick</th>\n",
              "      <td>0.078815</td>\n",
              "      <td>0.007843</td>\n",
              "      <td>-0.049417</td>\n",
              "      <td>-0.001504</td>\n",
              "      <td>-0.022721</td>\n",
              "      <td>1.000000</td>\n",
              "      <td>-0.020900</td>\n",
              "      <td>-0.005368</td>\n",
              "      <td>-0.026000</td>\n",
              "      <td>0.014326</td>\n",
              "      <td>-0.022815</td>\n",
              "      <td>-0.009644</td>\n",
              "      <td>-0.018153</td>\n",
              "      <td>-0.004838</td>\n",
              "      <td>-0.002354</td>\n",
              "      <td>-0.031860</td>\n",
              "      <td>-0.020259</td>\n",
              "      <td>-0.059564</td>\n",
              "      <td>-0.031698</td>\n",
              "      <td>-0.020953</td>\n",
              "      <td>-0.025290</td>\n",
              "      <td>0.017410</td>\n",
              "    </tr>\n",
              "    <tr>\n",
              "      <th>Pregnant</th>\n",
              "      <td>-0.106789</td>\n",
              "      <td>-0.069237</td>\n",
              "      <td>-0.000699</td>\n",
              "      <td>0.030461</td>\n",
              "      <td>0.035874</td>\n",
              "      <td>-0.020900</td>\n",
              "      <td>1.000000</td>\n",
              "      <td>-0.012486</td>\n",
              "      <td>-0.013628</td>\n",
              "      <td>-0.022306</td>\n",
              "      <td>0.088214</td>\n",
              "      <td>-0.011844</td>\n",
              "      <td>0.035133</td>\n",
              "      <td>0.102079</td>\n",
              "      <td>-0.001234</td>\n",
              "      <td>-0.011289</td>\n",
              "      <td>-0.017496</td>\n",
              "      <td>0.129712</td>\n",
              "      <td>0.128020</td>\n",
              "      <td>0.277352</td>\n",
              "      <td>-0.023555</td>\n",
              "      <td>0.027787</td>\n",
              "    </tr>\n",
              "    <tr>\n",
              "      <th>Thyroid surgery</th>\n",
              "      <td>-0.019801</td>\n",
              "      <td>-0.037844</td>\n",
              "      <td>0.020425</td>\n",
              "      <td>-0.005344</td>\n",
              "      <td>-0.013574</td>\n",
              "      <td>-0.005368</td>\n",
              "      <td>-0.012486</td>\n",
              "      <td>1.000000</td>\n",
              "      <td>0.002917</td>\n",
              "      <td>-0.002972</td>\n",
              "      <td>0.014256</td>\n",
              "      <td>-0.013499</td>\n",
              "      <td>-0.010845</td>\n",
              "      <td>0.003130</td>\n",
              "      <td>-0.001406</td>\n",
              "      <td>-0.027051</td>\n",
              "      <td>0.017268</td>\n",
              "      <td>-0.015748</td>\n",
              "      <td>-0.020801</td>\n",
              "      <td>0.012728</td>\n",
              "      <td>-0.021267</td>\n",
              "      <td>0.005838</td>\n",
              "    </tr>\n",
              "    <tr>\n",
              "      <th>I131_treatment</th>\n",
              "      <td>0.060131</td>\n",
              "      <td>-0.015391</td>\n",
              "      <td>0.071990</td>\n",
              "      <td>-0.016295</td>\n",
              "      <td>0.014163</td>\n",
              "      <td>-0.026000</td>\n",
              "      <td>-0.013628</td>\n",
              "      <td>0.002917</td>\n",
              "      <td>1.000000</td>\n",
              "      <td>0.053176</td>\n",
              "      <td>0.050371</td>\n",
              "      <td>-0.014734</td>\n",
              "      <td>-0.011837</td>\n",
              "      <td>-0.021089</td>\n",
              "      <td>-0.001535</td>\n",
              "      <td>-0.029525</td>\n",
              "      <td>0.012943</td>\n",
              "      <td>0.006770</td>\n",
              "      <td>-0.012024</td>\n",
              "      <td>0.018239</td>\n",
              "      <td>-0.018490</td>\n",
              "      <td>-0.018827</td>\n",
              "    </tr>\n",
              "    <tr>\n",
              "      <th>Query_hypothyroid</th>\n",
              "      <td>0.045090</td>\n",
              "      <td>-0.067903</td>\n",
              "      <td>0.112359</td>\n",
              "      <td>-0.019489</td>\n",
              "      <td>-0.025146</td>\n",
              "      <td>0.014326</td>\n",
              "      <td>-0.022306</td>\n",
              "      <td>-0.002972</td>\n",
              "      <td>0.053176</td>\n",
              "      <td>1.000000</td>\n",
              "      <td>0.016725</td>\n",
              "      <td>-0.009882</td>\n",
              "      <td>-0.011633</td>\n",
              "      <td>-0.032238</td>\n",
              "      <td>-0.003123</td>\n",
              "      <td>-0.031442</td>\n",
              "      <td>0.043103</td>\n",
              "      <td>-0.055093</td>\n",
              "      <td>-0.017704</td>\n",
              "      <td>0.008519</td>\n",
              "      <td>-0.023181</td>\n",
              "      <td>-0.081571</td>\n",
              "    </tr>\n",
              "    <tr>\n",
              "      <th>Query_hyperthyroid</th>\n",
              "      <td>-0.030477</td>\n",
              "      <td>-0.068808</td>\n",
              "      <td>-0.017236</td>\n",
              "      <td>-0.025099</td>\n",
              "      <td>0.101036</td>\n",
              "      <td>-0.022815</td>\n",
              "      <td>0.088214</td>\n",
              "      <td>0.014256</td>\n",
              "      <td>0.050371</td>\n",
              "      <td>0.016725</td>\n",
              "      <td>1.000000</td>\n",
              "      <td>-0.020923</td>\n",
              "      <td>-0.024704</td>\n",
              "      <td>0.022076</td>\n",
              "      <td>-0.003203</td>\n",
              "      <td>-0.059074</td>\n",
              "      <td>-0.016551</td>\n",
              "      <td>0.146451</td>\n",
              "      <td>0.104397</td>\n",
              "      <td>0.056347</td>\n",
              "      <td>0.083172</td>\n",
              "      <td>0.012111</td>\n",
              "    </tr>\n",
              "    <tr>\n",
              "      <th>Lithium</th>\n",
              "      <td>-0.036450</td>\n",
              "      <td>0.033240</td>\n",
              "      <td>-0.006909</td>\n",
              "      <td>-0.014161</td>\n",
              "      <td>-0.012875</td>\n",
              "      <td>-0.009644</td>\n",
              "      <td>-0.011844</td>\n",
              "      <td>-0.013499</td>\n",
              "      <td>-0.014734</td>\n",
              "      <td>-0.009882</td>\n",
              "      <td>-0.020923</td>\n",
              "      <td>1.000000</td>\n",
              "      <td>-0.010287</td>\n",
              "      <td>-0.018328</td>\n",
              "      <td>-0.001334</td>\n",
              "      <td>0.066594</td>\n",
              "      <td>-0.010693</td>\n",
              "      <td>0.008553</td>\n",
              "      <td>-0.038302</td>\n",
              "      <td>0.001366</td>\n",
              "      <td>-0.040654</td>\n",
              "      <td>0.009644</td>\n",
              "    </tr>\n",
              "    <tr>\n",
              "      <th>Goiter</th>\n",
              "      <td>-0.055778</td>\n",
              "      <td>-0.003211</td>\n",
              "      <td>0.001387</td>\n",
              "      <td>0.001127</td>\n",
              "      <td>-0.010344</td>\n",
              "      <td>-0.018153</td>\n",
              "      <td>0.035133</td>\n",
              "      <td>-0.010845</td>\n",
              "      <td>-0.011837</td>\n",
              "      <td>-0.011633</td>\n",
              "      <td>-0.024704</td>\n",
              "      <td>-0.010287</td>\n",
              "      <td>1.000000</td>\n",
              "      <td>0.004801</td>\n",
              "      <td>-0.001072</td>\n",
              "      <td>-0.013469</td>\n",
              "      <td>-0.012739</td>\n",
              "      <td>0.009462</td>\n",
              "      <td>-0.003673</td>\n",
              "      <td>0.034134</td>\n",
              "      <td>-0.023289</td>\n",
              "      <td>0.024135</td>\n",
              "    </tr>\n",
              "    <tr>\n",
              "      <th>Tumor</th>\n",
              "      <td>-0.050448</td>\n",
              "      <td>-0.072708</td>\n",
              "      <td>-0.018304</td>\n",
              "      <td>-0.005983</td>\n",
              "      <td>-0.018429</td>\n",
              "      <td>-0.004838</td>\n",
              "      <td>0.102079</td>\n",
              "      <td>0.003130</td>\n",
              "      <td>-0.021089</td>\n",
              "      <td>-0.032238</td>\n",
              "      <td>0.022076</td>\n",
              "      <td>-0.018328</td>\n",
              "      <td>0.004801</td>\n",
              "      <td>1.000000</td>\n",
              "      <td>-0.001909</td>\n",
              "      <td>-0.028563</td>\n",
              "      <td>-0.015691</td>\n",
              "      <td>0.082440</td>\n",
              "      <td>0.048082</td>\n",
              "      <td>0.070272</td>\n",
              "      <td>0.010081</td>\n",
              "      <td>0.004496</td>\n",
              "    </tr>\n",
              "    <tr>\n",
              "      <th>Hypopituitary</th>\n",
              "      <td>-0.019341</td>\n",
              "      <td>0.017819</td>\n",
              "      <td>-0.004566</td>\n",
              "      <td>0.094188</td>\n",
              "      <td>-0.001341</td>\n",
              "      <td>-0.002354</td>\n",
              "      <td>-0.001234</td>\n",
              "      <td>-0.001406</td>\n",
              "      <td>-0.001535</td>\n",
              "      <td>-0.003123</td>\n",
              "      <td>-0.003203</td>\n",
              "      <td>-0.001334</td>\n",
              "      <td>-0.001072</td>\n",
              "      <td>-0.001909</td>\n",
              "      <td>1.000000</td>\n",
              "      <td>-0.002673</td>\n",
              "      <td>-0.002366</td>\n",
              "      <td>-0.010908</td>\n",
              "      <td>-0.018164</td>\n",
              "      <td>0.005662</td>\n",
              "      <td>-0.020316</td>\n",
              "      <td>0.003129</td>\n",
              "    </tr>\n",
              "    <tr>\n",
              "      <th>Psych</th>\n",
              "      <td>-0.095050</td>\n",
              "      <td>0.108993</td>\n",
              "      <td>-0.064876</td>\n",
              "      <td>-0.028378</td>\n",
              "      <td>-0.025801</td>\n",
              "      <td>-0.031860</td>\n",
              "      <td>-0.011289</td>\n",
              "      <td>-0.027051</td>\n",
              "      <td>-0.029525</td>\n",
              "      <td>-0.031442</td>\n",
              "      <td>-0.059074</td>\n",
              "      <td>0.066594</td>\n",
              "      <td>-0.013469</td>\n",
              "      <td>-0.028563</td>\n",
              "      <td>-0.002673</td>\n",
              "      <td>1.000000</td>\n",
              "      <td>-0.026748</td>\n",
              "      <td>0.027918</td>\n",
              "      <td>-0.009340</td>\n",
              "      <td>-0.021914</td>\n",
              "      <td>0.001196</td>\n",
              "      <td>0.039065</td>\n",
              "    </tr>\n",
              "    <tr>\n",
              "      <th>TSH</th>\n",
              "      <td>-0.022134</td>\n",
              "      <td>-0.043567</td>\n",
              "      <td>0.013457</td>\n",
              "      <td>-0.014755</td>\n",
              "      <td>-0.010894</td>\n",
              "      <td>-0.020259</td>\n",
              "      <td>-0.017496</td>\n",
              "      <td>0.017268</td>\n",
              "      <td>0.012943</td>\n",
              "      <td>0.043103</td>\n",
              "      <td>-0.016551</td>\n",
              "      <td>-0.010693</td>\n",
              "      <td>-0.012739</td>\n",
              "      <td>-0.015691</td>\n",
              "      <td>-0.002366</td>\n",
              "      <td>-0.026748</td>\n",
              "      <td>1.000000</td>\n",
              "      <td>-0.156949</td>\n",
              "      <td>-0.256885</td>\n",
              "      <td>0.070150</td>\n",
              "      <td>-0.277076</td>\n",
              "      <td>-0.555192</td>\n",
              "    </tr>\n",
              "    <tr>\n",
              "      <th>T3</th>\n",
              "      <td>-0.208658</td>\n",
              "      <td>-0.045058</td>\n",
              "      <td>-0.009219</td>\n",
              "      <td>-0.009717</td>\n",
              "      <td>0.097592</td>\n",
              "      <td>-0.059564</td>\n",
              "      <td>0.129712</td>\n",
              "      <td>-0.015748</td>\n",
              "      <td>0.006770</td>\n",
              "      <td>-0.055093</td>\n",
              "      <td>0.146451</td>\n",
              "      <td>0.008553</td>\n",
              "      <td>0.009462</td>\n",
              "      <td>0.082440</td>\n",
              "      <td>-0.010908</td>\n",
              "      <td>0.027918</td>\n",
              "      <td>-0.156949</td>\n",
              "      <td>1.000000</td>\n",
              "      <td>0.481203</td>\n",
              "      <td>0.288914</td>\n",
              "      <td>0.349964</td>\n",
              "      <td>0.223539</td>\n",
              "    </tr>\n",
              "    <tr>\n",
              "      <th>TT4</th>\n",
              "      <td>-0.060380</td>\n",
              "      <td>-0.151049</td>\n",
              "      <td>0.200367</td>\n",
              "      <td>-0.010957</td>\n",
              "      <td>0.017793</td>\n",
              "      <td>-0.031698</td>\n",
              "      <td>0.128020</td>\n",
              "      <td>-0.020801</td>\n",
              "      <td>-0.012024</td>\n",
              "      <td>-0.017704</td>\n",
              "      <td>0.104397</td>\n",
              "      <td>-0.038302</td>\n",
              "      <td>-0.003673</td>\n",
              "      <td>0.048082</td>\n",
              "      <td>-0.018164</td>\n",
              "      <td>-0.009340</td>\n",
              "      <td>-0.256885</td>\n",
              "      <td>0.481203</td>\n",
              "      <td>1.000000</td>\n",
              "      <td>0.394122</td>\n",
              "      <td>0.787561</td>\n",
              "      <td>0.329054</td>\n",
              "    </tr>\n",
              "    <tr>\n",
              "      <th>T4U</th>\n",
              "      <td>-0.160996</td>\n",
              "      <td>-0.220899</td>\n",
              "      <td>0.036998</td>\n",
              "      <td>-0.024625</td>\n",
              "      <td>0.049205</td>\n",
              "      <td>-0.020953</td>\n",
              "      <td>0.277352</td>\n",
              "      <td>0.012728</td>\n",
              "      <td>0.018239</td>\n",
              "      <td>0.008519</td>\n",
              "      <td>0.056347</td>\n",
              "      <td>0.001366</td>\n",
              "      <td>0.034134</td>\n",
              "      <td>0.070272</td>\n",
              "      <td>0.005662</td>\n",
              "      <td>-0.021914</td>\n",
              "      <td>0.070150</td>\n",
              "      <td>0.288914</td>\n",
              "      <td>0.394122</td>\n",
              "      <td>1.000000</td>\n",
              "      <td>-0.207068</td>\n",
              "      <td>-0.034713</td>\n",
              "    </tr>\n",
              "    <tr>\n",
              "      <th>FTI</th>\n",
              "      <td>0.029605</td>\n",
              "      <td>-0.026910</td>\n",
              "      <td>0.176827</td>\n",
              "      <td>0.006946</td>\n",
              "      <td>-0.010661</td>\n",
              "      <td>-0.025290</td>\n",
              "      <td>-0.023555</td>\n",
              "      <td>-0.021267</td>\n",
              "      <td>-0.018490</td>\n",
              "      <td>-0.023181</td>\n",
              "      <td>0.083172</td>\n",
              "      <td>-0.040654</td>\n",
              "      <td>-0.023289</td>\n",
              "      <td>0.010081</td>\n",
              "      <td>-0.020316</td>\n",
              "      <td>0.001196</td>\n",
              "      <td>-0.277076</td>\n",
              "      <td>0.349964</td>\n",
              "      <td>0.787561</td>\n",
              "      <td>-0.207068</td>\n",
              "      <td>1.000000</td>\n",
              "      <td>0.345524</td>\n",
              "    </tr>\n",
              "    <tr>\n",
              "      <th>Class</th>\n",
              "      <td>-0.035032</td>\n",
              "      <td>0.052634</td>\n",
              "      <td>0.064487</td>\n",
              "      <td>0.017813</td>\n",
              "      <td>0.013302</td>\n",
              "      <td>0.017410</td>\n",
              "      <td>0.027787</td>\n",
              "      <td>0.005838</td>\n",
              "      <td>-0.018827</td>\n",
              "      <td>-0.081571</td>\n",
              "      <td>0.012111</td>\n",
              "      <td>0.009644</td>\n",
              "      <td>0.024135</td>\n",
              "      <td>0.004496</td>\n",
              "      <td>0.003129</td>\n",
              "      <td>0.039065</td>\n",
              "      <td>-0.555192</td>\n",
              "      <td>0.223539</td>\n",
              "      <td>0.329054</td>\n",
              "      <td>-0.034713</td>\n",
              "      <td>0.345524</td>\n",
              "      <td>1.000000</td>\n",
              "    </tr>\n",
              "  </tbody>\n",
              "</table>\n",
              "</div>"
            ],
            "text/plain": [
              "                                Age       Sex  ...       FTI     Class\n",
              "Age                        1.000000 -0.004575  ...  0.029605 -0.035032\n",
              "Sex                       -0.004575  1.000000  ... -0.026910  0.052634\n",
              "On_thyroxine               0.005952 -0.102034  ...  0.176827  0.064487\n",
              "Query_on_thyroxine        -0.005230  0.051976  ...  0.006946  0.017813\n",
              "On_antithyroid_medication -0.050504 -0.029576  ... -0.010661  0.013302\n",
              "Sick                       0.078815  0.007843  ... -0.025290  0.017410\n",
              "Pregnant                  -0.106789 -0.069237  ... -0.023555  0.027787\n",
              "Thyroid surgery           -0.019801 -0.037844  ... -0.021267  0.005838\n",
              "I131_treatment             0.060131 -0.015391  ... -0.018490 -0.018827\n",
              "Query_hypothyroid          0.045090 -0.067903  ... -0.023181 -0.081571\n",
              "Query_hyperthyroid        -0.030477 -0.068808  ...  0.083172  0.012111\n",
              "Lithium                   -0.036450  0.033240  ... -0.040654  0.009644\n",
              "Goiter                    -0.055778 -0.003211  ... -0.023289  0.024135\n",
              "Tumor                     -0.050448 -0.072708  ...  0.010081  0.004496\n",
              "Hypopituitary             -0.019341  0.017819  ... -0.020316  0.003129\n",
              "Psych                     -0.095050  0.108993  ...  0.001196  0.039065\n",
              "TSH                       -0.022134 -0.043567  ... -0.277076 -0.555192\n",
              "T3                        -0.208658 -0.045058  ...  0.349964  0.223539\n",
              "TT4                       -0.060380 -0.151049  ...  0.787561  0.329054\n",
              "T4U                       -0.160996 -0.220899  ... -0.207068 -0.034713\n",
              "FTI                        0.029605 -0.026910  ...  1.000000  0.345524\n",
              "Class                     -0.035032  0.052634  ...  0.345524  1.000000\n",
              "\n",
              "[22 rows x 22 columns]"
            ]
          },
          "metadata": {
            "tags": []
          },
          "execution_count": 9
        }
      ]
    },
    {
      "cell_type": "code",
      "metadata": {
        "colab": {
          "base_uri": "https://localhost:8080/",
          "height": 638
        },
        "id": "jhKRWBlT4gV1",
        "outputId": "6b84bcbf-4ddd-49ff-eed6-dacf9d4a33a3"
      },
      "source": [
        "plt.figure(figsize=(20,10), facecolor='w')\n",
        "sns.heatmap(cor,xticklabels=cor.columns,yticklabels=cor.columns,annot=True)\n",
        "plt.title(\"Correlation among all the Variables of the Dataset\", size=20)"
      ],
      "id": "jhKRWBlT4gV1",
      "execution_count": 10,
      "outputs": [
        {
          "output_type": "execute_result",
          "data": {
            "text/plain": [
              "Text(0.5, 1.0, 'Correlation among all the Variables of the Dataset')"
            ]
          },
          "metadata": {
            "tags": []
          },
          "execution_count": 10
        },
        {
          "output_type": "display_data",
          "data": {
            "image/png": "[encoded data removed]",
            "text/plain": [
              "<Figure size 1440x720 with 2 Axes>"
            ]
          },
          "metadata": {
            "tags": []
          }
        }
      ]
    },
    {
      "cell_type": "code",
      "metadata": {
        "id": "940cdb0f",
        "colab": {
          "base_uri": "https://localhost:8080/",
          "height": 295
        },
        "outputId": "28a792e5-df7f-4101-ce04-82ac04ab65ec"
      },
      "source": [
        "x_plot = ['Normal', 'Hypothyroidism', 'Hyperhyroidism']\n",
        "y_plot = [166, 367, 6665]\n",
        "plt.bar(x_plot, y_plot, data=df, color='blue')\n",
        "plt.xlabel('Classes')\n",
        "plt.ylabel('value count')\n",
        "plt.title('Nuber of data present with respect to classes')\n",
        "plt.show()"
      ],
      "id": "940cdb0f",
      "execution_count": 11,
      "outputs": [
        {
          "output_type": "display_data",
          "data": {
            "image/png": "[encoded data removed]",
            "text/plain": [
              "<Figure size 432x288 with 1 Axes>"
            ]
          },
          "metadata": {
            "tags": [],
            "needs_background": "light"
          }
        }
      ]
    },
    {
      "cell_type": "markdown",
      "metadata": {
        "id": "JMEdfVL7Txjh"
      },
      "source": [
        "## Scaling"
      ],
      "id": "JMEdfVL7Txjh"
    },
    {
      "cell_type": "code",
      "metadata": {
        "colab": {
          "base_uri": "https://localhost:8080/"
        },
        "id": "VX5FKRBZTz0_",
        "outputId": "14c978a1-ea52-4255-8969-78b50fa1cf52"
      },
      "source": [
        "X = df.drop('Class',axis=1)\n",
        "scaler = StandardScaler()\n",
        "scaler.fit(df.drop('Class',axis=1))"
      ],
      "id": "VX5FKRBZTz0_",
      "execution_count": 12,
      "outputs": [
        {
          "output_type": "execute_result",
          "data": {
            "text/plain": [
              "StandardScaler(copy=True, with_mean=True, with_std=True)"
            ]
          },
          "metadata": {
            "tags": []
          },
          "execution_count": 12
        }
      ]
    },
    {
      "cell_type": "code",
      "metadata": {
        "id": "Zsz0CeAkUJjY"
      },
      "source": [
        "scaler_feature = scaler.transform(df.drop('Class',axis=1))"
      ],
      "id": "Zsz0CeAkUJjY",
      "execution_count": 13,
      "outputs": []
    },
    {
      "cell_type": "code",
      "metadata": {
        "id": "isrri5h4UKtF"
      },
      "source": [
        "df_feature = pd.DataFrame(scaler_feature,columns=X.columns)"
      ],
      "id": "isrri5h4UKtF",
      "execution_count": 14,
      "outputs": []
    },
    {
      "cell_type": "code",
      "metadata": {
        "colab": {
          "base_uri": "https://localhost:8080/",
          "height": 239
        },
        "id": "CdnlAxyTUNvo",
        "outputId": "eab88d1c-2183-4abe-8048-ed3a1f5f5f70"
      },
      "source": [
        "df_feature.head()"
      ],
      "id": "CdnlAxyTUNvo",
      "execution_count": 15,
      "outputs": [
        {
          "output_type": "execute_result",
          "data": {
            "text/html": [
              "<div>\n",
              "<style scoped>\n",
              "    .dataframe tbody tr th:only-of-type {\n",
              "        vertical-align: middle;\n",
              "    }\n",
              "\n",
              "    .dataframe tbody tr th {\n",
              "        vertical-align: top;\n",
              "    }\n",
              "\n",
              "    .dataframe thead th {\n",
              "        text-align: right;\n",
              "    }\n",
              "</style>\n",
              "<table border=\"1\" class=\"dataframe\">\n",
              "  <thead>\n",
              "    <tr style=\"text-align: right;\">\n",
              "      <th></th>\n",
              "      <th>Age</th>\n",
              "      <th>Sex</th>\n",
              "      <th>On_thyroxine</th>\n",
              "      <th>Query_on_thyroxine</th>\n",
              "      <th>On_antithyroid_medication</th>\n",
              "      <th>Sick</th>\n",
              "      <th>Pregnant</th>\n",
              "      <th>Thyroid surgery</th>\n",
              "      <th>I131_treatment</th>\n",
              "      <th>Query_hypothyroid</th>\n",
              "      <th>Query_hyperthyroid</th>\n",
              "      <th>Lithium</th>\n",
              "      <th>Goiter</th>\n",
              "      <th>Tumor</th>\n",
              "      <th>Hypopituitary</th>\n",
              "      <th>Psych</th>\n",
              "      <th>TSH</th>\n",
              "      <th>T3</th>\n",
              "      <th>TT4</th>\n",
              "      <th>T4U</th>\n",
              "      <th>FTI</th>\n",
              "    </tr>\n",
              "  </thead>\n",
              "  <tbody>\n",
              "    <tr>\n",
              "      <th>0</th>\n",
              "      <td>-1.482302</td>\n",
              "      <td>-0.661504</td>\n",
              "      <td>-0.387329</td>\n",
              "      <td>-0.12515</td>\n",
              "      <td>-0.113784</td>\n",
              "      <td>-0.199682</td>\n",
              "      <td>-0.104666</td>\n",
              "      <td>-0.119295</td>\n",
              "      <td>-0.130207</td>\n",
              "      <td>-0.264906</td>\n",
              "      <td>-0.271749</td>\n",
              "      <td>-0.113156</td>\n",
              "      <td>-0.090909</td>\n",
              "      <td>-0.161967</td>\n",
              "      <td>-0.011788</td>\n",
              "      <td>-0.226753</td>\n",
              "      <td>-0.200681</td>\n",
              "      <td>1.329596</td>\n",
              "      <td>0.933299</td>\n",
              "      <td>1.842912</td>\n",
              "      <td>-0.144448</td>\n",
              "    </tr>\n",
              "    <tr>\n",
              "      <th>1</th>\n",
              "      <td>-0.266959</td>\n",
              "      <td>-0.661504</td>\n",
              "      <td>-0.387329</td>\n",
              "      <td>-0.12515</td>\n",
              "      <td>-0.113784</td>\n",
              "      <td>-0.199682</td>\n",
              "      <td>-0.104666</td>\n",
              "      <td>-0.119295</td>\n",
              "      <td>-0.130207</td>\n",
              "      <td>-0.264906</td>\n",
              "      <td>-0.271749</td>\n",
              "      <td>-0.113156</td>\n",
              "      <td>-0.090909</td>\n",
              "      <td>-0.161967</td>\n",
              "      <td>-0.011788</td>\n",
              "      <td>-0.226753</td>\n",
              "      <td>-0.128882</td>\n",
              "      <td>0.533720</td>\n",
              "      <td>-0.206513</td>\n",
              "      <td>1.738096</td>\n",
              "      <td>-0.975554</td>\n",
              "    </tr>\n",
              "    <tr>\n",
              "      <th>2</th>\n",
              "      <td>0.631339</td>\n",
              "      <td>1.511707</td>\n",
              "      <td>-0.387329</td>\n",
              "      <td>-0.12515</td>\n",
              "      <td>-0.113784</td>\n",
              "      <td>-0.199682</td>\n",
              "      <td>-0.104666</td>\n",
              "      <td>-0.119295</td>\n",
              "      <td>-0.130207</td>\n",
              "      <td>-0.264906</td>\n",
              "      <td>-0.271749</td>\n",
              "      <td>-0.113156</td>\n",
              "      <td>-0.090909</td>\n",
              "      <td>-0.161967</td>\n",
              "      <td>-0.011788</td>\n",
              "      <td>-0.226753</td>\n",
              "      <td>-0.172397</td>\n",
              "      <td>-0.394801</td>\n",
              "      <td>-0.901520</td>\n",
              "      <td>-0.410646</td>\n",
              "      <td>-0.781629</td>\n",
              "    </tr>\n",
              "    <tr>\n",
              "      <th>3</th>\n",
              "      <td>-1.535143</td>\n",
              "      <td>-0.661504</td>\n",
              "      <td>-0.387329</td>\n",
              "      <td>-0.12515</td>\n",
              "      <td>-0.113784</td>\n",
              "      <td>-0.199682</td>\n",
              "      <td>-0.104666</td>\n",
              "      <td>-0.119295</td>\n",
              "      <td>-0.130207</td>\n",
              "      <td>-0.264906</td>\n",
              "      <td>-0.271749</td>\n",
              "      <td>-0.113156</td>\n",
              "      <td>-0.090909</td>\n",
              "      <td>-0.161967</td>\n",
              "      <td>-0.011788</td>\n",
              "      <td>-0.226753</td>\n",
              "      <td>-0.200681</td>\n",
              "      <td>0.799012</td>\n",
              "      <td>0.822098</td>\n",
              "      <td>-0.410646</td>\n",
              "      <td>1.102211</td>\n",
              "    </tr>\n",
              "    <tr>\n",
              "      <th>4</th>\n",
              "      <td>0.895544</td>\n",
              "      <td>1.511707</td>\n",
              "      <td>-0.387329</td>\n",
              "      <td>-0.12515</td>\n",
              "      <td>-0.113784</td>\n",
              "      <td>-0.199682</td>\n",
              "      <td>-0.104666</td>\n",
              "      <td>-0.119295</td>\n",
              "      <td>-0.130207</td>\n",
              "      <td>-0.264906</td>\n",
              "      <td>-0.271749</td>\n",
              "      <td>-0.113156</td>\n",
              "      <td>-0.090909</td>\n",
              "      <td>-0.161967</td>\n",
              "      <td>-0.011788</td>\n",
              "      <td>-0.226753</td>\n",
              "      <td>-0.200681</td>\n",
              "      <td>-0.527447</td>\n",
              "      <td>-0.651318</td>\n",
              "      <td>-1.458813</td>\n",
              "      <td>0.271105</td>\n",
              "    </tr>\n",
              "  </tbody>\n",
              "</table>\n",
              "</div>"
            ],
            "text/plain": [
              "        Age       Sex  On_thyroxine  ...       TT4       T4U       FTI\n",
              "0 -1.482302 -0.661504     -0.387329  ...  0.933299  1.842912 -0.144448\n",
              "1 -0.266959 -0.661504     -0.387329  ... -0.206513  1.738096 -0.975554\n",
              "2  0.631339  1.511707     -0.387329  ... -0.901520 -0.410646 -0.781629\n",
              "3 -1.535143 -0.661504     -0.387329  ...  0.822098 -0.410646  1.102211\n",
              "4  0.895544  1.511707     -0.387329  ... -0.651318 -1.458813  0.271105\n",
              "\n",
              "[5 rows x 21 columns]"
            ]
          },
          "metadata": {
            "tags": []
          },
          "execution_count": 15
        }
      ]
    },
    {
      "cell_type": "markdown",
      "metadata": {
        "id": "06a5aaa2"
      },
      "source": [
        "# Models"
      ],
      "id": "06a5aaa2"
    },
    {
      "cell_type": "markdown",
      "metadata": {
        "id": "02848dd7"
      },
      "source": [
        "# K-nearest neighbors(KNN)"
      ],
      "id": "02848dd7"
    },
    {
      "cell_type": "markdown",
      "metadata": {
        "id": "eecd1062"
      },
      "source": [
        "### Splitting the Data"
      ],
      "id": "eecd1062"
    },
    {
      "cell_type": "code",
      "metadata": {
        "id": "de1b7809"
      },
      "source": [
        "X = df_feature\n",
        "y = df['Class']\n",
        "X_train, X_test, y_train, y_test = train_test_split(X, y, test_size=0.33, random_state=5)"
      ],
      "id": "de1b7809",
      "execution_count": 16,
      "outputs": []
    },
    {
      "cell_type": "code",
      "metadata": {
        "id": "c8a42b4f"
      },
      "source": [
        "from sklearn.neighbors import KNeighborsClassifier"
      ],
      "id": "c8a42b4f",
      "execution_count": 17,
      "outputs": []
    },
    {
      "cell_type": "markdown",
      "metadata": {
        "id": "e128d62a"
      },
      "source": [
        "### finding the best value for 'k'"
      ],
      "id": "e128d62a"
    },
    {
      "cell_type": "code",
      "metadata": {
        "id": "0d3f30e4"
      },
      "source": [
        "err_rate = []\n",
        "for i in range (1,40):\n",
        "    knn = KNeighborsClassifier(n_neighbors=i)\n",
        "    knn.fit(X_train,y_train)\n",
        "    predi = knn.predict(X_test)\n",
        "    err_rate.append(np.mean(predi != y_test))"
      ],
      "id": "0d3f30e4",
      "execution_count": 18,
      "outputs": []
    },
    {
      "cell_type": "code",
      "metadata": {
        "id": "8943d1a1",
        "colab": {
          "base_uri": "https://localhost:8080/",
          "height": 390
        },
        "outputId": "02082da5-ae19-41e2-bee8-bc66e78b15ef"
      },
      "source": [
        "plt.figure(figsize=(10,6))\n",
        "plt.grid()\n",
        "plt.plot(range(1,40),err_rate,color = 'blue',linestyle='--',marker='.',markerfacecolor='red',markersize=10)"
      ],
      "id": "8943d1a1",
      "execution_count": 19,
      "outputs": [
        {
          "output_type": "execute_result",
          "data": {
            "text/plain": [
              "[<matplotlib.lines.Line2D at 0x7fef976435d0>]"
            ]
          },
          "metadata": {
            "tags": []
          },
          "execution_count": 19
        },
        {
          "output_type": "display_data",
          "data": {
            "image/png": "[encoded data removed]",
            "text/plain": [
              "<Figure size 720x432 with 1 Axes>"
            ]
          },
          "metadata": {
            "tags": [],
            "needs_background": "light"
          }
        }
      ]
    },
    {
      "cell_type": "markdown",
      "metadata": {
        "id": "6b205c0e"
      },
      "source": [
        "### Model prediction"
      ],
      "id": "6b205c0e"
    },
    {
      "cell_type": "code",
      "metadata": {
        "id": "36dd37d2"
      },
      "source": [
        "knn = KNeighborsClassifier(n_neighbors=3)\n",
        "knn.fit(X_train,y_train)\n",
        "prediction = knn.predict(X_test)"
      ],
      "id": "36dd37d2",
      "execution_count": 20,
      "outputs": []
    },
    {
      "cell_type": "code",
      "metadata": {
        "id": "0ee81670",
        "colab": {
          "base_uri": "https://localhost:8080/"
        },
        "outputId": "913d0ebe-ecb8-4ffa-f3c4-9379083f15c5"
      },
      "source": [
        "prediction"
      ],
      "id": "0ee81670",
      "execution_count": 21,
      "outputs": [
        {
          "output_type": "execute_result",
          "data": {
            "text/plain": [
              "array([3, 3, 3, ..., 3, 3, 3])"
            ]
          },
          "metadata": {
            "tags": []
          },
          "execution_count": 21
        }
      ]
    },
    {
      "cell_type": "markdown",
      "metadata": {
        "id": "018eb8d5"
      },
      "source": [
        "### Accuracy of the model"
      ],
      "id": "018eb8d5"
    },
    {
      "cell_type": "code",
      "metadata": {
        "id": "40b4a6c9",
        "colab": {
          "base_uri": "https://localhost:8080/"
        },
        "outputId": "1af4a4b8-5512-4465-b968-c85721b7b95d"
      },
      "source": [
        "from sklearn.metrics import accuracy_score\n",
        "knn_acc_score = accuracy_score(y_test,prediction)\n",
        "print(f'model accuracy is : {knn_acc_score}')"
      ],
      "id": "40b4a6c9",
      "execution_count": 22,
      "outputs": [
        {
          "output_type": "stream",
          "text": [
            "model accuracy is : 0.9515993265993266\n"
          ],
          "name": "stdout"
        }
      ]
    },
    {
      "cell_type": "markdown",
      "metadata": {
        "id": "eed625fa"
      },
      "source": [
        "# LogisticRegression"
      ],
      "id": "eed625fa"
    },
    {
      "cell_type": "code",
      "metadata": {
        "id": "18c09270"
      },
      "source": [
        "from sklearn.linear_model import LogisticRegression"
      ],
      "id": "18c09270",
      "execution_count": 23,
      "outputs": []
    },
    {
      "cell_type": "code",
      "metadata": {
        "id": "246472a2"
      },
      "source": [
        "X = df_feature\n",
        "y = df['Class']\n",
        "\n",
        "skfold=StratifiedKFold(n_splits=10)\n",
        "skfold.get_n_splits(X,y)\n",
        "\n",
        "lr = LogisticRegression()\n",
        "\n",
        "accuracy=[]\n",
        "\n",
        "for train_index, test_index in skfold.split(X,y):\n",
        "    X1_train,X1_test=X.iloc[train_index],X.iloc[test_index]\n",
        "    y1_train,y1_test=y.iloc[train_index],y.iloc[test_index]\n",
        "                                \n",
        "    lr.fit(X1_train, y1_train)\n",
        "    prediction=lr.predict(X1_test)\n",
        "    score=accuracy_score(prediction,y1_test)\n",
        "    accuracy.append(score)\n",
        "      "
      ],
      "id": "246472a2",
      "execution_count": 24,
      "outputs": []
    },
    {
      "cell_type": "code",
      "metadata": {
        "id": "734f774e",
        "colab": {
          "base_uri": "https://localhost:8080/"
        },
        "outputId": "283ce77d-8315-47ca-8803-0017b846e96e"
      },
      "source": [
        "lr_acc_score=np.array(accuracy).mean()\n",
        "print(f'model accuracy is : {lr_acc_score}')"
      ],
      "id": "734f774e",
      "execution_count": 25,
      "outputs": [
        {
          "output_type": "stream",
          "text": [
            "model accuracy is : 0.9554025652912997\n"
          ],
          "name": "stdout"
        }
      ]
    },
    {
      "cell_type": "markdown",
      "metadata": {
        "id": "74d1b83e"
      },
      "source": [
        "# Decision Tree"
      ],
      "id": "74d1b83e"
    },
    {
      "cell_type": "code",
      "metadata": {
        "id": "905ce4c9"
      },
      "source": [
        "from sklearn.tree import DecisionTreeClassifier"
      ],
      "id": "905ce4c9",
      "execution_count": 26,
      "outputs": []
    },
    {
      "cell_type": "code",
      "metadata": {
        "id": "aa15a00d"
      },
      "source": [
        "\n",
        "X = df_feature\n",
        "y = df['Class']\n",
        "\n",
        "skfold=StratifiedKFold(n_splits=10)\n",
        "skfold.get_n_splits(X,y)\n",
        "\n",
        "dt = DecisionTreeClassifier()\n",
        "\n",
        "accuracy=[]\n",
        "\n",
        "for train_index, test_index in skfold.split(X,y):\n",
        "    X1_train,X1_test=X.iloc[train_index],X.iloc[test_index]\n",
        "    y1_train,y1_test=y.iloc[train_index],y.iloc[test_index]\n",
        "                                \n",
        "    dt.fit(X1_train, y1_train)\n",
        "    prediction=dt.predict(X1_test)\n",
        "    score=accuracy_score(prediction,y1_test)\n",
        "    accuracy.append(score)\n",
        "      "
      ],
      "id": "aa15a00d",
      "execution_count": 27,
      "outputs": []
    },
    {
      "cell_type": "markdown",
      "metadata": {
        "id": "dd8d968a"
      },
      "source": [
        "### Accuracy of the model"
      ],
      "id": "dd8d968a"
    },
    {
      "cell_type": "code",
      "metadata": {
        "id": "a4976533",
        "colab": {
          "base_uri": "https://localhost:8080/"
        },
        "outputId": "d9c6dd08-30ed-4a39-b92f-004dd0addedb"
      },
      "source": [
        "dt_acc_score=np.array(accuracy).mean()\n",
        "print(f'model accuracy is : {dt_acc_score}')"
      ],
      "id": "a4976533",
      "execution_count": 28,
      "outputs": [
        {
          "output_type": "stream",
          "text": [
            "model accuracy is : 0.997081594807603\n"
          ],
          "name": "stdout"
        }
      ]
    },
    {
      "cell_type": "markdown",
      "metadata": {
        "id": "90646acb"
      },
      "source": [
        "# Random Forest"
      ],
      "id": "90646acb"
    },
    {
      "cell_type": "code",
      "metadata": {
        "id": "2511e674"
      },
      "source": [
        "from sklearn.ensemble import RandomForestClassifier"
      ],
      "id": "2511e674",
      "execution_count": 29,
      "outputs": []
    },
    {
      "cell_type": "code",
      "metadata": {
        "id": "ea81d558"
      },
      "source": [
        "\n",
        "X = df_feature\n",
        "y = df['Class']\n",
        "\n",
        "skfold=StratifiedKFold(n_splits=10)\n",
        "skfold.get_n_splits(X,y)\n",
        "\n",
        "rf = RandomForestClassifier(n_estimators=150, random_state=0, n_jobs=-1)\n",
        "\n",
        "accuracy=[]\n",
        "\n",
        "for train_index, test_index in skfold.split(X,y):\n",
        "    X1_train,X1_test=X.iloc[train_index],X.iloc[test_index]\n",
        "    y1_train,y1_test=y.iloc[train_index],y.iloc[test_index]\n",
        "                                \n",
        "    rf.fit(X1_train, y1_train)\n",
        "    prediction=rf.predict(X1_test)\n",
        "    score=accuracy_score(prediction,y1_test)\n",
        "    accuracy.append(score)"
      ],
      "id": "ea81d558",
      "execution_count": 30,
      "outputs": []
    },
    {
      "cell_type": "markdown",
      "metadata": {
        "id": "e92901a0"
      },
      "source": [
        "### Accuracy of the model"
      ],
      "id": "e92901a0"
    },
    {
      "cell_type": "code",
      "metadata": {
        "id": "c3a381cb",
        "colab": {
          "base_uri": "https://localhost:8080/"
        },
        "outputId": "9a81348c-2021-4e90-dbb7-b71db3154698"
      },
      "source": [
        "rf_acc_score=np.array(accuracy).mean()\n",
        "print(f'model accuracy is : {rf_acc_score}')"
      ],
      "id": "c3a381cb",
      "execution_count": 31,
      "outputs": [
        {
          "output_type": "stream",
          "text": [
            "model accuracy is : 0.9959702905269665\n"
          ],
          "name": "stdout"
        }
      ]
    },
    {
      "cell_type": "markdown",
      "metadata": {
        "id": "S5B7tsOOFkIF"
      },
      "source": [
        "## **Model Evaluation**"
      ],
      "id": "S5B7tsOOFkIF"
    },
    {
      "cell_type": "code",
      "metadata": {
        "colab": {
          "base_uri": "https://localhost:8080/",
          "height": 172
        },
        "id": "qMBAPYHxEuJe",
        "outputId": "3a0c1720-a216-4f98-d084-76aba2cbc156"
      },
      "source": [
        "model_ev = pd.DataFrame({'Model': ['Logistic Regression','KNN','Random Forest',\n",
        "                                   'Decision Tree'], \n",
        "                         'Accuracy': [lr_acc_score, knn_acc_score, rf_acc_score, dt_acc_score]})\n",
        "model_ev"
      ],
      "id": "qMBAPYHxEuJe",
      "execution_count": 32,
      "outputs": [
        {
          "output_type": "execute_result",
          "data": {
            "text/html": [
              "<div>\n",
              "<style scoped>\n",
              "    .dataframe tbody tr th:only-of-type {\n",
              "        vertical-align: middle;\n",
              "    }\n",
              "\n",
              "    .dataframe tbody tr th {\n",
              "        vertical-align: top;\n",
              "    }\n",
              "\n",
              "    .dataframe thead th {\n",
              "        text-align: right;\n",
              "    }\n",
              "</style>\n",
              "<table border=\"1\" class=\"dataframe\">\n",
              "  <thead>\n",
              "    <tr style=\"text-align: right;\">\n",
              "      <th></th>\n",
              "      <th>Model</th>\n",
              "      <th>Accuracy</th>\n",
              "    </tr>\n",
              "  </thead>\n",
              "  <tbody>\n",
              "    <tr>\n",
              "      <th>0</th>\n",
              "      <td>Logistic Regression</td>\n",
              "      <td>0.955403</td>\n",
              "    </tr>\n",
              "    <tr>\n",
              "      <th>1</th>\n",
              "      <td>KNN</td>\n",
              "      <td>0.951599</td>\n",
              "    </tr>\n",
              "    <tr>\n",
              "      <th>2</th>\n",
              "      <td>Random Forest</td>\n",
              "      <td>0.995970</td>\n",
              "    </tr>\n",
              "    <tr>\n",
              "      <th>3</th>\n",
              "      <td>Decision Tree</td>\n",
              "      <td>0.997082</td>\n",
              "    </tr>\n",
              "  </tbody>\n",
              "</table>\n",
              "</div>"
            ],
            "text/plain": [
              "                 Model  Accuracy\n",
              "0  Logistic Regression  0.955403\n",
              "1                  KNN  0.951599\n",
              "2        Random Forest  0.995970\n",
              "3        Decision Tree  0.997082"
            ]
          },
          "metadata": {
            "tags": []
          },
          "execution_count": 32
        }
      ]
    },
    {
      "cell_type": "code",
      "metadata": {
        "colab": {
          "base_uri": "https://localhost:8080/",
          "height": 513
        },
        "id": "4VkpuHCiEuRB",
        "outputId": "fdff6a73-983d-414b-e293-12ea1faa71fe"
      },
      "source": [
        "colors = ['red','green','blue','gold']\n",
        "plt.figure(figsize=(15,8), facecolor='w')\n",
        "plt.title(\"Barplot Representing Accuracy of different models\")\n",
        "plt.ylabel(\"Accuracy %\")\n",
        "plt.xlabel(\"Models\")\n",
        "plt.bar(model_ev['Model'],model_ev['Accuracy'],color = colors)\n",
        "plt.show()"
      ],
      "id": "4VkpuHCiEuRB",
      "execution_count": 33,
      "outputs": [
        {
          "output_type": "display_data",
          "data": {
            "image/png": "[encoded data removed]",
            "text/plain": [
              "<Figure size 1080x576 with 1 Axes>"
            ]
          },
          "metadata": {
            "tags": []
          }
        }
      ]
    },
    {
      "cell_type": "markdown",
      "metadata": {
        "id": "oWyhP2-8IUKQ"
      },
      "source": [
        "## **Conclusion**"
      ],
      "id": "oWyhP2-8IUKQ"
    },
    {
      "cell_type": "markdown",
      "metadata": {
        "id": "nX8cIRsvIuGH"
      },
      "source": [
        "Decision Tree Classifier Model performs best among all models\n",
        "\n"
      ],
      "id": "nX8cIRsvIuGH"
    },
    {
      "cell_type": "code",
      "metadata": {
        "id": "Jy0me8G2IRaB"
      },
      "source": [
        "import pickle\n",
        "\n",
        "file='thyroid.pickle'\n",
        "pickle.dump(dt,open(file,'wb'))"
      ],
      "id": "Jy0me8G2IRaB",
      "execution_count": 34,
      "outputs": []
    },
    {
      "cell_type": "code",
      "metadata": {
        "id": "V331XSEDIhjf"
      },
      "source": [
        ""
      ],
      "id": "V331XSEDIhjf",
      "execution_count": 34,
      "outputs": []
    }
  ]
}